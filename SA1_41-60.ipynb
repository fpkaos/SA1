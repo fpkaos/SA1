{
 "cells": [
  {
   "cell_type": "markdown",
   "metadata": {},
   "source": [
    "## 41.\tАнализ рисков ИБ (идентификация последствий), типы\n",
    "\n",
    "Согласно ГОСТ Р ИСО/МЭК 27005-2010 и ISO/IEC 27005:2011 входными данными процесса являются списки активов, бизнес- процессов, угроз ИБ и уязвимостей (при возможности с указанием активов) и их значимость. Должны быть определены прямые и косвенные последствия возможной потери активами КЦД, вызванной инцидентами ИБ.\n",
    "\n",
    "Негативные последствия от воздействия рисков ИБ могут быть двух типов:\n",
    "- мгновенные последствия, например, отказ оборудования;\n",
    "- накапливающиеся последствия, например, отказ оборудования в результате исчерпания его ресурса.\n",
    "\n",
    "Последствия идентифицируются в следующих терминах:\n",
    "- время исследования возникших проблем и время восстановления;\n",
    "- потеря рабочего времени;\n",
    "- упущенные возможности;\n",
    "- охрана труда и безопасность;\n",
    "- финансовые затраты на приобретение навыков по устранению неисправностей и возмещению ущерба;\n",
    "- имидж и репутация и т. д.\n",
    "\n",
    "Выходные данные процесса представляются в виде списка сценариев инцидентов ИБ с их последствиями для конкретных активов и бизнес- процессов."
   ]
  },
  {
   "cell_type": "markdown",
   "metadata": {},
   "source": [
    "## 42.\tКоличественная оценка рисков ИБ\n",
    "\n",
    "![](sa1_media/kolocenka.png)\n",
    "\n",
    "ГОСТ Р ИСО 31000-2010 «Менеджмент риска Принципы и руководство»\n",
    "ГОСТ Р ИСО 31010-2011 «Менеджмент риска Методы оценки риска»"
   ]
  },
  {
   "cell_type": "markdown",
   "metadata": {},
   "source": [
    "## 43.\tКачественный подход к количественной оценке\n",
    "\n",
    "Используется словесная шкала квалификационных атрибутов, описывающих величину потенциальных последствий (например, как «низкую», «среднюю» и «высокую») и вероятность возникновения данных последствий\n",
    "- **Преимущество**: понятность всему персоналу \n",
    "- **Недостаток**: субъективный выбор шкалы численных значений\n",
    "\n",
    "Качественный подход к количественной оценке рисков ИБ может применяться:\n",
    "- как начальный при идентификации рисков ИБ, которые позже будет проанализированы более детально;\n",
    "- когда этого типа анализа достаточно для принятия решений;\n",
    "- когда имеющихся числовых данных или ресурсов недостаточно для количественной оценки."
   ]
  },
  {
   "cell_type": "markdown",
   "metadata": {},
   "source": [
    "## 44.\tКоличественный подход к количественной оценке\n",
    "\n",
    "Используется шкала с числовыми значениями как для последствий, так и для вероятностей, основываясь на данных, полученных из различных источников.\n",
    "- **Преимущество**: использование исторических данных (фактические данные за прошедший период) и связь с реальными задачами и потребности по ОИБ \n",
    "- **Недостаток**: отсутствие данных по новым рискам и уязвимостям, потенциальное отсутствие доступа к данным, что искажает итоговую оценку\n",
    "\n",
    "Качество такого анализа зависит от точности и полноты числовых значений и правильности применяемых моделей"
   ]
  },
  {
   "cell_type": "markdown",
   "metadata": {},
   "source": [
    "## 45.\tКомбинированный полуколичественный подход к количественной оценке\n",
    "\n",
    "Цель - создание шкалы более широких рейтингов, чем при качественном анализе, но это не гарантирует присвоение реалистичных значений риска ИБ, как при количественном анализе.\n",
    "- **Преимущество**: расширенная шкала оценки, возможность применения различных моделей\n",
    "- **Недостаток**: выбранные значения не могут правильно отражать относительность и это может привести к несогласованности, аномальным или несоответствующим результатам\n",
    "\n",
    "Полу-количественный анализ не может правильно дифференцировать риски ИБ, особенно когда последствия или вероятности являются экстремальными"
   ]
  },
  {
   "cell_type": "markdown",
   "metadata": {},
   "source": [
    "## 46.\tОценка последствий\n",
    "\n",
    "Входными данными процесса являютcя: список идентифицированных возможных сценариев инцидентов ИБ, включая угрозы ИБ, уязвимости, затрагиваемые активы, последствия для активов и бизнес-процессов \n",
    "\n",
    "Оценка последствий может включать в себя:\n",
    "- учет существующих средств управления рисками ИБ для обработки последствий, вместе со всеми соответствующими факторами, которые оказывают влияние на них;\n",
    "- влияние последствий рисков ИБ на первоначальные цели организации;\n",
    "- учет как непосредственных последствий, так и тех, которые могут возникнуть через определенный период времени, если это согласуется с областью оценки;\n",
    "- учет вторичных последствий, таких, которые влияют на соответствующие системы, деятельность, оборудование или организации\n",
    "\n",
    "Наиболее нагляден и больше дает информации для принятия решений метод, в котором последствиям присваивается **денежное выражение**"
   ]
  },
  {
   "cell_type": "markdown",
   "metadata": {},
   "source": [
    "## 47.\tОценка последствий (оценка активов организации)\n",
    "\n",
    "**Первый шаг** – установление числа используемых уровней (Обычно число уровней оценки находится в диапазоне от трех-пяти (например, шкалы «низкая-средняя-высокая» или «пренебрежимо малая-низкая-средняя-высокая-очень высокая-критичная») до десяти при условии, что это совместимо с подходом организации к общему процессу оценки рисков ИБ.)\n",
    "\n",
    "Примерная шкала оценки:\n",
    "- **малоценный актив**: от него не зависят критически важные задачи и он может быть восстановлен с небольшими затратами времени и денег;\n",
    "- **актив средней ценности**: от него зависит ряд важных задач, но в случае утраты он может быть восстановлен за время, не превышающее критически допустимое, но стоимость восстановления - высокая;\n",
    "- **ценный актив**: от него зависят критически важные задачи, в случае утраты время восстановления превышает критически допустимое либо стоимость чрезвычайно высока.\n",
    "\n",
    "Каждому качественному значению шкалы возможно поставить в соответствие количественные значения (например, интервалы, выраженные в денежных единицах)\n",
    "\n",
    "Для оценки активов могут применяться следующие показатели:\n",
    "- Первоначальная стоимость актива (стоимость приобретения).\n",
    "- Стоимость поддержания актива в процессе решения бизнес-задач до его компрометации.\n",
    "- Стоимость замены/восстановления/воссоздания/обновления актива (восстанавливающая очистка или замена информации, если это вообще возможно).\n",
    "- Последствия для бизнеса от потери или компрометации актива (например, потенциальных неблагоприятных бизнес-последствий и/или правовых или нормативных последствий раскрытия, изменения, недоступности и/или уничтожение информации и других информационных ресурсов). Такая оценка может быть получена на основе анализа бизнес- последствий.\n",
    "\n",
    "\n",
    "![](sa1_media/ocenkaposled.png)\n",
    "\n",
    "Выходными данными процесса является список оцененных последствий для применимых сценариев инцидентов ИТ, связанных с активами с учетом критериев оценки последствий. В результате данного этапа в список активов проставляется оценка для каждого идентифицированного актива по каждому критерию, например, по КЦД, а также по любым другими критериям, если они используются.\n",
    "\n",
    "**Оценку возможного ущерба может сделать только собственник или владелец актива**\n",
    "\n",
    "Как правило, процессы идентификации активов и оценки их ценности проходят параллельно. Так, при формировании анкет для проведения инвентаризации активов можно включить соответствующие графы, в которых будет указываться ценность того или иного актива."
   ]
  },
  {
   "attachments": {},
   "cell_type": "markdown",
   "metadata": {},
   "source": [
    "## 48.\tОценка вероятностей\n",
    "\n",
    "**Входные данные процесса** - список возможных идентифицированных сценариев ИБ, включая идентифицированные угрозы ИБ, затрагиваемые активы, используемые уязвимости и последствия для активов и бизнес- процессов, а также списки всех существующих и запланированных элементов управления рисками ИБ, их эффективность, статус внедрения и использования\n",
    "\n",
    "**Выходными данными процесса** является вероятность реализации сценариев инцидентов ИБ - в количественном или качественном выражении\n",
    "\n",
    "Должны быть оценены вероятности реализации конкретных сценариев инцидентов ИБ. \n",
    "Чаще всего применяются три подхода:\n",
    "- исторические данные;\n",
    "- предсказание вероятностей (например, с использованием дерева отказов или **дерева событий**);\n",
    "- экспертные оценки.\n",
    "\n",
    "![](sa1_media/ocver.png)"
   ]
  },
  {
   "attachments": {},
   "cell_type": "markdown",
   "metadata": {},
   "source": [
    "## 49.\tОценка вероятностей, факторы\n",
    "\n",
    "Целесообразно учитывать следующие факторы:\n",
    "- насколько часто реализуются угрозы ИБ и насколько просто использовать уязвимости, рассматривая опыт и соответствующие статистические данные по вероятностям реализации угроз ИБ;\n",
    "- уязвимости, рассматриваемые отдельно и совместно, что может многократно увеличить потери организации;\n",
    "- угрозы ИБ, рассматриваемые отдельно и совместно, что может многократно увеличить потери организации;\n",
    "- вероятность реализации некоторой комбинации угроз ИБ и уязвимостей;\n",
    "- для умышленных (преднамеренных) источников угроз ИБ - мотивация и возможности, которые меняются со временем, а также ресурсы, доступные потенциальным злоумышленникам, и осознание ими привлекательности и уязвимости активов;\n",
    "- для случайных (непреднамеренных) источников угроз ИБ насколько часто они могут возникать, в соответствии с опытом, статистикой и т. д.; географические факторы (близость к химическим и нефтеперерабатывающим заводам, нахождение в районах, где велика вероятность экстремальных погодных условий, и факторы, которые могут вызвать совершаемые человеком ошибки и сбои в работе оборудования);\n",
    "- существующие средства управления и насколько эффективно они снижают уязвимости.\n",
    "\n",
    "![](sa1_media/veryear.png)\n",
    "\n",
    "![](sa1_media/veryear2.png)\n",
    "\n",
    "![](sa1_media/veryear3.png)\n"
   ]
  },
  {
   "attachments": {
    "%D0%B8%D0%B7%D0%BE%D0%B1%D1%80%D0%B0%D0%B6%D0%B5%D0%BD%D0%B8%D0%B5.png": {
     "image/png": "[encoded data removed]"
    }
   },
   "cell_type": "markdown",
   "metadata": {},
   "source": [
    "## 50.\tОпределение уровня (величины) рисков ИБ, размер ущерба\n",
    "\n",
    "Входные данные процесса - список сценариев инцидентов ИБ с их последствиями, связанными с активами и бизнес-процессами и вероятность их реализации - количественная или качественная\n",
    "\n",
    "![](sa1_media/formuli.png)\n",
    "\n",
    "Используется не математическая вероятность угрозы ИБ, а ожидаемое количество попыток или частота реализации угрозы ИБ за определенный период времени\n",
    "\n",
    "**Размер ущерба** выражается в денежных единицах, величина уязвимости принимает значение в диапазоне от 0 до 1, а вероятность угрозы является целым положительным числом, определяющим ожидаемое количество попыток реализации угрозы за конкретный период времени.\n",
    "\n",
    "Рекомендуется брать период, равный одному году, так как в этом случае величина риска будет соответствовать прогнозируемым среднегодовым потерям (Annualised Loss of  Expentancy, ALE) в результате инцидентов ИБ.\n",
    "\n",
    "**ALE** удобно использовать для соотнесения расходов на безопасность с величиной риска и для оценки возврата от инвестиций (Return of Investment, **ROI**)\n",
    "![%D0%B8%D0%B7%D0%BE%D0%B1%D1%80%D0%B0%D0%B6%D0%B5%D0%BD%D0%B8%D0%B5.png](attachment:%D0%B8%D0%B7%D0%BE%D0%B1%D1%80%D0%B0%D0%B6%D0%B5%D0%BD%D0%B8%D0%B5.png)"
   ]
  },
  {
   "cell_type": "code",
   "execution_count": null,
   "metadata": {},
   "outputs": [],
   "source": []
  }
 ],
 "metadata": {
  "kernelspec": {
   "display_name": "Python 3",
   "language": "python",
   "name": "python3"
  },
  "language_info": {
   "codemirror_mode": {
    "name": "ipython",
    "version": 3
   },
   "file_extension": ".py",
   "mimetype": "text/x-python",
   "name": "python",
   "nbconvert_exporter": "python",
   "pygments_lexer": "ipython3",
   "version": "3.7.3"
  }
 },
 "nbformat": 4,
 "nbformat_minor": 2
}
